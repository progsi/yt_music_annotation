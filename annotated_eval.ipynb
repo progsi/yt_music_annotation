{
 "cells": [
  {
   "cell_type": "code",
   "execution_count": null,
   "id": "eb8dac26",
   "metadata": {},
   "outputs": [],
   "source": [
    "import os\n",
    "import pandas as pd\n",
    "from datetime import datetime\n",
    "import ast\n",
    "\n",
    "# read annotated files\n",
    "ANNOTATED_PATH = 'annotated/'\n",
    "\n",
    "file_list = os.listdir(ANNOTATED_PATH)\n",
    "file_list\n",
    "\n",
    "annotated = pd.DataFrame([], columns=['example', 'changed', 'label', 'annotator', 'timestamp', 'duration'])\n",
    "\n",
    "print(f\"{len(file_list)} annotation files\")\n",
    "\n",
    "for filename in file_list:\n",
    "    read_df = pd.read_csv(os.sep.join(\n",
    "                (ANNOTATED_PATH, filename)), \n",
    "                        sep=';', \n",
    "                        dtype={\n",
    "                            'example': str, \n",
    "                            'changed': bool, \n",
    "                            'label': str, \n",
    "                            'annotator': str,\n",
    "                            'timestamp': object\n",
    "                        }, \n",
    "                        parse_dates=[\"timestamp\"],\n",
    "                        infer_datetime_format=True )\n",
    "    \n",
    "    read_df['duration'] = read_df['timestamp'].diff().apply(lambda x: x.total_seconds())\n",
    "    annotated = pd.concat([annotated, read_df]) #.reset_index(drop=True)\n",
    "    \n",
    "print(f\"Length before deduplication {len(annotated)}\")\n",
    "\n",
    "# drop duplicates in cases of multiple annotations by one annotator and keep last annotated\n",
    "annotated.sort_values(by='timestamp', inplace=True)\n",
    "annotated.drop_duplicates(subset=['example', 'annotator'], keep='last', inplace=True)\n",
    "\n",
    "print(f\"Length after deduplication {len(annotated)}\")\n",
    "\n",
    "annotated['anchor_yt_url'] = annotated['example'].apply(lambda x: f'https://www.youtube.com/watch?v={ast.literal_eval(x)[0]}')\n",
    "annotated['candidate_yt_url'] = annotated['example'].apply(lambda x: f'https://www.youtube.com/watch?v={ast.literal_eval(x)[1]}')\n",
    "annotated['anchor_yt_id'] = annotated['example'].apply(lambda x: ast.literal_eval(x)[0])\n",
    "annotated['candidate_yt_id'] = annotated['example'].apply(lambda x: ast.literal_eval(x)[1])\n",
    "\n",
    "# remove annotator SH, because messy experimental data\n",
    "annotated = annotated.loc[annotated.annotator != 'SH', :]\n",
    "\n",
    "# fill false to non video\n",
    "annotated[\"with_video\"].fillna(value=False, inplace=True)\n",
    "\n",
    "annotated.to_csv('annotated.csv', sep=';')\n"
   ]
  },
  {
   "cell_type": "markdown",
   "id": "bb0eb2a2",
   "metadata": {},
   "source": [
    "### Generate Cross-validation inputs for `annotator.ipynb` "
   ]
  },
  {
   "cell_type": "code",
   "execution_count": null,
   "id": "945c5382",
   "metadata": {},
   "outputs": [],
   "source": [
    "cross_validated = annotated.groupby(\n",
    "    by=['example'], as_index=False).filter(\n",
    "    lambda x: (x['annotator'].count() == len(annotated['annotator'].unique())).all())['example']\n",
    "\n",
    "# everything that is already cross-validated (more than 2 evaluators)\n",
    "annotated_crossval = annotated.apply(lambda x: x.example in cross_validated, axis=1)\n",
    "\n",
    "# write a file for each annotator\n",
    "for annotator in annotated['annotator'].unique():\n",
    "    to_crossval = annotated.loc[(~annotated.example.isin(cross_validated)) & (annotated.annotator != annotator), ['anchor_yt_id', 'candidate_yt_id']]\n",
    "    to_crossval.columns = ['query_id', 'candidate_id']\n",
    "    to_crossval['set_id'] = -1\n",
    "    to_crossval = to_crossval[['set_id', 'query_id', 'candidate_id']]\n",
    "    to_crossval.to_csv(f'eval_input_crossval_{annotator}.csv', index=False, sep=';')\n"
   ]
  },
  {
   "cell_type": "markdown",
   "id": "6ca55705",
   "metadata": {},
   "source": [
    "# Basic Stats"
   ]
  },
  {
   "cell_type": "markdown",
   "id": "8f33e433",
   "metadata": {},
   "source": [
    "### Label Counts"
   ]
  },
  {
   "cell_type": "code",
   "execution_count": null,
   "id": "280763e4",
   "metadata": {},
   "outputs": [],
   "source": [
    "import seaborn as sns\n",
    "import matplotlib.pyplot as plt\n",
    "\n",
    "sns.color_palette(\"crest\", as_cmap=True)\n",
    "\n",
    "sns.countplot(data=annotated, x=annotated.label, palette='crest', hue='annotator')\n",
    "\n",
    "plt.xticks(rotation=45)\n",
    "plt.show()"
   ]
  },
  {
   "cell_type": "markdown",
   "id": "5af0fb84",
   "metadata": {},
   "source": [
    "### Duration per Candidate Anchor Pair"
   ]
  },
  {
   "cell_type": "code",
   "execution_count": null,
   "id": "4b75c0e6",
   "metadata": {},
   "outputs": [],
   "source": [
    "# remove pairs where annotation was greater than 10mins\n",
    "annotated_duration_cleaned_10mins = annotated.loc[annotated.duration < 600,:]\n",
    "\n",
    "annotated_duration_cleaned_10mins.duration.hist(bins=100)\n",
    "plt.xlabel('duration in seconds')\n",
    "plt.ylabel('count')\n",
    "plt.title('Limited to 10mins per pair')\n",
    "plt.show()\n",
    "\n",
    "annotated_duration_cleaned_6mins = annotated.loc[annotated.duration < 360,:]\n",
    "\n",
    "annotated_duration_cleaned_6mins.duration.hist(bins=100)\n",
    "plt.xlabel('duration in seconds')\n",
    "plt.ylabel('count')\n",
    "plt.title('Limited to 6mins per pair')\n",
    "plt.show()"
   ]
  },
  {
   "cell_type": "code",
   "execution_count": null,
   "id": "d642d972",
   "metadata": {},
   "outputs": [],
   "source": [
    "annotated_duration_cleaned_10mins.describe()"
   ]
  },
  {
   "cell_type": "code",
   "execution_count": null,
   "id": "d26f8f52",
   "metadata": {},
   "outputs": [],
   "source": [
    "\n",
    "sns.boxplot(data=annotated_duration_cleaned_10mins, x='annotator', y='duration', hue='with_video')\n",
    "plt.title(\"All Labels\")\n",
    "plt.show()"
   ]
  },
  {
   "cell_type": "code",
   "execution_count": null,
   "id": "f72fe7a9",
   "metadata": {},
   "outputs": [],
   "source": [
    "labels = annotated_duration_cleaned_10mins.label.unique()\n",
    "\n",
    "fig, axs = plt.subplots(len(labels), figsize=(6, 19))\n",
    "\n",
    "for i, label in enumerate(labels):\n",
    "    sns.boxplot(ax=axs[i], data=annotated_duration_cleaned_10mins.loc[annotated_duration_cleaned_10mins.label == label,:], x='annotator', y='duration', hue='with_video')\n",
    "    axs[i].set_title(label)\n",
    "    plt.yscale(\"log\")\n",
    "\n",
    "fig.tight_layout()\n"
   ]
  },
  {
   "cell_type": "code",
   "execution_count": null,
   "id": "8841e334",
   "metadata": {},
   "outputs": [],
   "source": [
    "100000/60/60"
   ]
  },
  {
   "cell_type": "code",
   "execution_count": null,
   "id": "5c19bb8a",
   "metadata": {},
   "outputs": [],
   "source": []
  }
 ],
 "metadata": {
  "language_info": {
   "name": "python",
   "pygments_lexer": "ipython3"
  }
 },
 "nbformat": 4,
 "nbformat_minor": 5
}
